{
 "cells": [
  {
   "cell_type": "code",
   "execution_count": null,
   "metadata": {},
   "outputs": [],
   "source": [
    "import numpy as np\n",
    "import scipy.misc\n",
    "import pylab\n",
    "import torch\n",
    "from datetime import datetime as dt\n",
    "import matplotlib.pyplot as plt\n",
    "import matplotlib.ticker as ticker\n",
    "from mpl_toolkits.axes_grid1 import make_axes_locatable\n",
    "from wavelets_pytorch_2.alltorch.wavelets import Morlet, Ricker, DOG, Paul\n",
    "from wavelets_pytorch_2.alltorch.transform import WaveletTransformTorch #WaveletTransform, \n",
    "from IPython.display import clear_output\n",
    "from tqdm import tqdm_notebook,tqdm\n",
    "from sklearn.preprocessing import normalize\n",
    "import matplotlib.image as mpimg\n",
    "import time\n",
    "import wfdb as wf\n",
    "\n",
    "# from wavelets_pytorch_2.backup_pytorchwavelets.wavelets import Morlet, Ricker, DOG\n",
    "# from wavelets_pytorch_2.backup_pytorchwavelets.transform import WaveletTransformTorch #WaveletTransform, \n",
    "\n",
    "from __future__ import absolute_import\n",
    "from __future__ import division\n",
    "from __future__ import print_function\n",
    "\n",
    "\n",
    "paths = glob('qtdb/*.dat')\n",
    "paths = [path[:-4] for path in paths]\n",
    "paths.sort()\n",
    "#from examples.plot import plot_scalogram"
   ]
  },
  {
   "cell_type": "markdown",
   "metadata": {},
   "source": [
    "### Scalogram defn input"
   ]
  },
  {
   "cell_type": "code",
   "execution_count": null,
   "metadata": {},
   "outputs": [],
   "source": [
    "def plot_scalogram(power, scales, t, normalize_columns=True, cmap=None, ax=None, scale_legend=True):\n",
    "    \"\"\"\n",
    "    Plot the wavelet power spectrum (scalogram).\n",
    "\n",
    "    :param power: np.ndarray, CWT power spectrum of shape [n_scales,signal_length]\n",
    "    :param scales: np.ndarray, scale distribution of shape [n_scales]\n",
    "    :param t: np.ndarray, temporal range of shape [signal_length]\n",
    "    :param normalize_columns: boolean, whether to normalize spectrum per timestep\n",
    "    :param cmap: matplotlib cmap, please refer to their documentation\n",
    "    :param ax: matplotlib axis object, if None creates a new subplot\n",
    "    :param scale_legend: boolean, whether to include scale legend on the right\n",
    "    :return: ax, matplotlib axis object that contains the scalogram\n",
    "    \"\"\"\n",
    "\n",
    "    if not cmap: cmap = plt.get_cmap(\"plasma\")#(\"coolwarm\")\n",
    "    if ax is None: fig, ax = plt.subplots()\n",
    "    if normalize_columns: power = power/np.max(power, axis=0)\n",
    "\n",
    "    T, S = np.meshgrid(t, scales)\n",
    "    cnt = ax.contourf(T, S, power, 500, cmap=cmap)\n",
    "\n",
    "    # Fix for saving as PDF (aliasing)\n",
    "    for c in cnt.collections:\n",
    "        c.set_edgecolor(\"face\")\n",
    "\n",
    "    ax.set_yscale('log')\n",
    "    ax.set_ylabel(\"Scale (Log Scale)\")\n",
    "    ax.set_xlabel(\"Time (s)\")\n",
    "    ax.set_title(\"Wavelet Power Spectrum\")\n",
    "\n",
    "    if scale_legend:\n",
    "        def format_axes_label(x, pos):\n",
    "            return \"{:.2f}\".format(x)\n",
    "        divider = make_axes_locatable(ax)\n",
    "        cax = divider.append_axes(\"right\", size=\"5%\", pad=0.05)\n",
    "        plt.colorbar(cnt, cax=cax, ticks=[np.min(power), 0, np.max(power)],\n",
    "                     format=ticker.FuncFormatter(format_axes_label))\n",
    "\n",
    "    return ax"
   ]
  },
  {
   "cell_type": "markdown",
   "metadata": {},
   "source": [
    "### Dataset Prep"
   ]
  },
  {
   "cell_type": "code",
   "execution_count": null,
   "metadata": {
    "scrolled": true
   },
   "outputs": [],
   "source": [
    "newlabels = []\n",
    "newdata  = []\n",
    "newdata2  = []\n",
    "count = 0\n",
    "cnt=0\n",
    "for path in tqdm_notebook(paths):\n",
    "        dat= wf.rdrecord(path)\n",
    "        try:\n",
    "            ann1p = wf.rdann(path, 'q1c')\n",
    "        except:\n",
    "            cnt=cnt+1\n",
    "            #print(cnt)\n",
    "            continue\n",
    "        beats = ann1p.sample\n",
    "        symb1 = np.array(ann1p.symbol)\n",
    "        data_ = dat.p_signal[:,0]\n",
    "        data_2 = dat.p_signal[:,1]\n",
    "        symb1[symb1=='('] = 0\n",
    "        symb1[symb1=='p'] = 2\n",
    "        symb1[symb1==')'] = 1\n",
    "        symb1[symb1=='N'] = 3\n",
    "        symb1[symb1=='t'] = 4\n",
    "        beat_len = dat.fs\n",
    "        brack_open = np.where(np.array(symb1) == '0')\n",
    "        brack_open_index = beats[tuple(brack_open)]\n",
    "        brack_close = np.where(np.array(symb1) == '1')\n",
    "        brack_close_index = beats[tuple(brack_close)]\n",
    "        p_open = np.where(np.array(symb1) == '2')\n",
    "        p_open_index = beats[tuple(p_open)]\n",
    "        qrs_open = np.where(np.array(symb1) == '3')\n",
    "        qrs_open_index = beats[tuple(qrs_open)]\n",
    "        t_open = np.where(np.array(symb1) == '4')\n",
    "        t_open_index = beats[tuple(t_open)]\n",
    "        label_data = np.zeros(data_.shape)\n",
    "        \n",
    "        #print (label_data.shape)\n",
    "        open_bracket = brack_open_index.tolist()\n",
    "        close_bracket = brack_close_index.tolist()\n",
    "        for ii in range(p_open_index.shape[0]):\n",
    "\n",
    "            try:\n",
    "                p_index = p_open_index[ii]\n",
    "                q_index = qrs_open_index[ii]\n",
    "                t_index = t_open_index[ii]\n",
    "\n",
    "                open_index = open_bracket[2*ii:2*ii+2]\n",
    "                close_index = close_bracket[3*ii:3*ii+3]\n",
    "                input_data = data_[open_index[0]:open_index[0]+150]\n",
    "                #input_data= replaceRandom(input_data, 5)\n",
    "                input_data_2 = data_2[open_index[0]:open_index[0]+150]\n",
    "                # P -- 1, Q -- 2, T -- 3\n",
    "                label_data[open_index[0]:close_index[0]] = 1\n",
    "                label_data[open_index[1]:close_index[1]] = 2\n",
    "                label_data[t_index:close_index[2]] = 3\n",
    "\n",
    "            except:\n",
    "                cnt=cnt+1\n",
    "                continue\n",
    "            max_val = np.max(input_data)\n",
    "            min_val = np.min(input_data)\n",
    "\n",
    "            #output_data =  label_data[open_index[0]:close_index[-1]]\n",
    "            output_data =  label_data[open_index[0]:open_index[0]+150]\n",
    "            \n",
    "            if len(set(output_data))<3:\n",
    "                #print(set(output_data))\n",
    "                continue\n",
    "            newdata.append(input_data)\n",
    "            newdata2.append(input_data_2)\n",
    "            newlabels.append(output_data)\n",
    "#             pmin,pmax = open_index[0]-open_index[0],close_index[0]-open_index[0]\n",
    "#             qmin,qmax = open_index[1]-open_index[0],close_index[1]-open_index[0]\n",
    "#             tmin,tmax = t_index-open_index[0],close_index[2]-open_index[0]\n",
    "#             lab.figure()\n",
    "#             lab.plot(input_data)    \n",
    "#             lab.fill([pmin,pmax,pmax,pmin],[min_val,min_val,max_val,max_val],'r',alpha=0.2)\n",
    "#             lab.fill([qmin,qmax,qmax,qmin],[min_val,min_val,max_val,max_val],'g',alpha=0.2)\n",
    "#             lab.fill([tmin,tmax,tmax,tmin],[min_val,min_val,max_val,max_val],'y',alpha=0.2)\n",
    "#             lab.savefig(os.path.join('./Annotated_ecg_images/',str(ii)+'.jpg'))\n",
    "#             lab.close()\n",
    "#             lab.figure()\n",
    "#             lab.plot(input_data)\n",
    "#             lab.plot(output_data)\n",
    "#             lab.savefig(os.path.join('./Annotated_ecg_images/',str(ii)+'.jpg'))\n",
    "            \n",
    "            \n",
    "#             if count == 500:\n",
    "#                 break\n",
    "        count += 1\n",
    "        \n",
    "newdata = np.asarray(newdata)\n",
    "newlabels = np.asarray(newlabels)/3\n",
    "#L2 Norm\n",
    "newdata_norm = preprocessing.normalize(newdata, axis=1, norm= 'l2',copy=True, return_norm=False)\n",
    "#newlabels_norm = preprocessing.normalize(newlabels, axis=1, norm= 'l1' ,copy=True, return_norm=False)\n",
    "# newdata.shape, newlabels.shape, newdata2.shape"
   ]
  },
  {
   "cell_type": "code",
   "execution_count": null,
   "metadata": {},
   "outputs": [],
   "source": [
    "dat = newdata_norm\n",
    "label = newlabels\n",
    "#dat = normalize(dat,axis=0)\n",
    "fps = 150\n",
    "dt  = 1.0/fps\n",
    "dt1 = 1.0/fps\n",
    "dj  = 0.125\n",
    "unbias = False\n",
    "batch_size = 32\n",
    "#wavelet = Morlet(w0=2)\n",
    "wavelet = Paul(m=8)\n",
    "\n",
    "def show(data):\n",
    "    pylab.jet()\n",
    "    pylab.imshow(data)\n",
    "    pylab.colorbar()\n",
    "    pylab.show()\n",
    "    pylab.clf()\n",
    "    \n",
    "x = np.linspace(0, 1, num=dat[0].shape[0])\n",
    "dt = 1\n",
    "#label[np.where(label==1)] = 0\n",
    "#label[np.where(label==3)] = 0\n",
    "# label = normalize(label,axis=1)\n",
    "print(dat.shape, label.shape)\n",
    "print(np.unique(label))"
   ]
  },
  {
   "cell_type": "code",
   "execution_count": null,
   "metadata": {},
   "outputs": [],
   "source": [
    "ind = np.random.randint(0,dat.shape[0],1).squeeze()"
   ]
  },
  {
   "cell_type": "markdown",
   "metadata": {},
   "source": [
    "### Power scale conversion - ECG & Labels"
   ]
  },
  {
   "cell_type": "code",
   "execution_count": null,
   "metadata": {},
   "outputs": [],
   "source": [
    "ecg = torch.from_numpy(dat[ind]).float()#, afib_dat[ind].shape\n",
    "wa_ecg_torch = WaveletTransformTorch(dt, dj, wavelet, unbias=unbias, cuda=True)\n",
    "power_ecg_torch = wa_ecg_torch.power(ecg).type(torch.FloatTensor)#.numpy())\n",
    "scales_ecg_torch = torch.from_numpy(wa_ecg_torch.fourier_periods).type(torch.FloatTensor)\n",
    "lab = torch.from_numpy(label[ind]).float()\n",
    "wa_label_torch = WaveletTransformTorch(dt, dj, wavelet, unbias=unbias, cuda=True)\n",
    "power_label_torch = wa_label_torch.power(lab).type(torch.FloatTensor)#.numpy())\n",
    "scales_label_torch = torch.from_numpy(wa_label_torch.fourier_periods).type(torch.FloatTensor)"
   ]
  },
  {
   "cell_type": "code",
   "execution_count": null,
   "metadata": {},
   "outputs": [],
   "source": [
    "wa_ecg_torch._cwt_op.shape"
   ]
  },
  {
   "cell_type": "code",
   "execution_count": null,
   "metadata": {},
   "outputs": [],
   "source": [
    "scales_ecg_torch.shape, scales_label_torch.shape\n",
    "ecg_recon = wa_ecg_torch.reconstruction(power_ecg_torch,scales_ecg_torch)\n",
    "label_recon = wa_label_torch.reconstruction(power_label_torch,scales_label_torch)\n",
    "# plt.plot(lab.numpy())\n",
    "# plt.show()\n",
    "# plt.plot(label_recon)\n",
    "# plt.show()\n",
    "# print(np.unique(label))\n",
    "# # power_label_torch"
   ]
  },
  {
   "cell_type": "code",
   "execution_count": null,
   "metadata": {},
   "outputs": [],
   "source": [
    "fig, ax = plt.subplots(2, 2, figsize=(12,6))\n",
    "ax = ax.flatten()\n",
    "ax[0].plot(x, dat[ind])\n",
    "ax[0].set_title(r'ECG source signal')\n",
    "# ax[0].set_xlabel('Samples')\n",
    "\n",
    "ax[1].plot(x, ecg_recon)\n",
    "ax[1].set_title(r'ECG reconstructed signal')\n",
    "# ax[1].set_xlabel('Samples')\n",
    "\n",
    "ax[2].plot(x, label[ind])\n",
    "ax[2].set_title(r'Label source signal')\n",
    "# ax[3].set_xlabel('Samples')\n",
    "\n",
    "ax[3].plot(x, label_recon)\n",
    "ax[3].set_title(r'Label reconstructed signal')\n",
    "# ax[3].set_xlabel('Samples')\n"
   ]
  },
  {
   "cell_type": "code",
   "execution_count": null,
   "metadata": {},
   "outputs": [],
   "source": [
    "fig, ax = plt.subplots(2, 2, figsize=(16,10))\n",
    "ax = ax.flatten()\n",
    "ax[0].plot(x, dat[ind])\n",
    "ax[0].set_title(r'ECG signal')\n",
    "ax[0].set_xlabel('Samples')\n",
    "plot_scalogram(power_ecg_torch.numpy(), scales_ecg_torch.numpy(), x, ax=ax[1])\n",
    "#ax[1].axhline(1.0 / random_frequencies[0], lw=1, color='k')\n",
    "ax[1].set_title('ECG Scalogram')#.format(1.0/random_frequencies[0]))\n",
    "ax[1].set_ylabel('')\n",
    "ax[1].set_yticks([])\n",
    "\n",
    "ax[2].plot(x, label[ind])\n",
    "ax[2].set_title(r'Label')\n",
    "ax[2].set_xlabel('Samples')\n",
    "plot_scalogram(power_label_torch.numpy(), scales_label_torch.numpy(), x, ax=ax[3])\n",
    "#ax[1].axhline(1.0 / random_frequencies[0], lw=1, color='k')\n",
    "ax[3].set_title('Label Scalogram')#.format(1.0/random_frequencies[0]))\n",
    "ax[3].set_ylabel('')\n",
    "ax[3].set_yticks([])\n",
    "\n",
    "# plot_scalogram(power_torch1.numpy(), scales_torch1.numpy(), t, ax=ax[2])\n",
    "# #ax[1].axhline(1.0 / random_frequencies[0], lw=1, color='k')\n",
    "# ax[2].set_title('Scalogram dt=10/fs')#.format(1.0/random_frequencies[0]))\n",
    "# ax[2].set_ylabel('')\n",
    "# ax[2].set_yticks([])\n",
    "plt.tight_layout()\n",
    "plt.show()\n"
   ]
  },
  {
   "cell_type": "code",
   "execution_count": null,
   "metadata": {},
   "outputs": [],
   "source": [
    "random_frequencies = np.random.uniform(0.5, 4.0, size=batch_size)\n",
    "batch  = np.asarray([np.sin(2*np.pi*f*t) for f in random_frequencies])\n",
    "batch += np.random.normal(0, 0.2, batch.shape)  # Gaussian noise\n",
    "batch.shape"
   ]
  },
  {
   "cell_type": "code",
   "execution_count": null,
   "metadata": {},
   "outputs": [],
   "source": [
    "power_torch"
   ]
  },
  {
   "cell_type": "code",
   "execution_count": null,
   "metadata": {},
   "outputs": [],
   "source": [
    "wa_torch1.fourier_periods"
   ]
  },
  {
   "cell_type": "code",
   "execution_count": null,
   "metadata": {},
   "outputs": [],
   "source": [
    "9000//600"
   ]
  },
  {
   "cell_type": "code",
   "execution_count": null,
   "metadata": {},
   "outputs": [],
   "source": []
  }
 ],
 "metadata": {
  "kernelspec": {
   "display_name": "Python 3",
   "language": "python",
   "name": "python3"
  },
  "language_info": {
   "codemirror_mode": {
    "name": "ipython",
    "version": 3
   },
   "file_extension": ".py",
   "mimetype": "text/x-python",
   "name": "python",
   "nbconvert_exporter": "python",
   "pygments_lexer": "ipython3",
   "version": "3.6.5"
  }
 },
 "nbformat": 4,
 "nbformat_minor": 2
}
